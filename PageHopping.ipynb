{
 "cells": [
  {
   "cell_type": "markdown",
   "metadata": {},
   "source": [
    "# Page Hopping"
   ]
  },
  {
   "cell_type": "code",
   "execution_count": 169,
   "metadata": {},
   "outputs": [],
   "source": [
    "import networkx as nx  \n",
    "import matplotlib.pyplot as plt\n",
    "class Graph(object):\n",
    "     \n",
    "    def __init__(self,links_line):\n",
    "        self.sumLengths=0\n",
    "        self.graph_dict=dict()\n",
    "        array=links_line.split(\" \")\n",
    "        i=0\n",
    "        while int(array[i])+int(array[i+1])>0:\n",
    "            self.addLink((array[i],array[i+1]))\n",
    "            i=i+2\n",
    "        print(self.graph_dict)\n",
    "        G=nx.DiGraph()\n",
    "        for page in self.graph_dict.keys():\n",
    "            G.add_node(page)\n",
    "        for (page1,page2) in self.links():\n",
    "            G.add_edge(page1, page2)\n",
    "        nx.draw(G, with_labels=True, font_weight='bold')\n",
    "        plt.show()\n",
    "            \n",
    "    def addLink(self,tuple_link):\n",
    "        (page1,page2)=tuple_link\n",
    "        if page1 not in self.graph_dict.keys():\n",
    "            self.graph_dict[page1]=[page2]\n",
    "        else:\n",
    "            self.graph_dict[page1].append(page2) \n",
    "            \n",
    "            \n",
    "    def pages(self):\n",
    "        return list(self.graph_dict.keys())\n",
    "    \n",
    "    \n",
    "    def links(self):\n",
    "        links = []\n",
    "        for key in self.graph_dict.keys():\n",
    "            for page in self.graph_dict[key]:\n",
    "                    links.append((key, page))\n",
    "        return links\n",
    "                                  \n",
    "            \n",
    "    def find_all_paths(self, start_page, end_page, path=[]):\n",
    "        path = path + [start_page]\n",
    "        if start_page == end_page:\n",
    "            return [path]\n",
    "        paths=[]\n",
    "        for page in self.graph_dict[start_page]:\n",
    "            if page not in path:\n",
    "                extended_paths = self.find_all_paths(page,end_page,path)\n",
    "                if extended_paths is not None:\n",
    "                    for p in extended_paths:\n",
    "                        paths.append(p)\n",
    "        return paths\n",
    "    \n",
    "    \n",
    "    def minPath(self, start_page, end_page):\n",
    "        paths=self.find_all_paths(start_page, end_page, path=[])\n",
    "        smallest = sorted(paths, key=len)[0]\n",
    "        return smallest\n",
    "    \n",
    "    def sumOfAllPathLengths(self):\n",
    "        s=0;\n",
    "        for keyi in self.graph_dict.keys():\n",
    "            for keyj in self.graph_dict.keys():\n",
    "                if keyi != keyj:\n",
    "                    print(keyi+\"-->\"+keyj+\":All paths are:\",end=\" \"),print(self.find_all_paths(keyi,keyj),end=\" =>\")\n",
    "                    print(\"min path is:\",end=\" \")\n",
    "                    minpath=self.minPath(keyi,keyj)\n",
    "                    print(minpath)\n",
    "                    pathLength=len(minpath)-1\n",
    "                    print(\"So path length: \"+str(pathLength))\n",
    "                    s=s+pathLength\n",
    "        print(\"sum of all path lengths:\"+str(s))\n",
    "        self.sumLengths=s\n",
    "        return s   \n",
    "\n",
    "    def possiblePairesOfPages(self):#N*(N-1)\n",
    "        return len(self.graph_dict.keys())*(len(self.graph_dict.keys())-1)\n",
    "    \n",
    "    def averagePathLength(self):\n",
    "        return format(self.sumLengths/self.possiblePairesOfPages(), '.3f')\n",
    "    \n",
    "        "
   ]
  },
  {
   "cell_type": "code",
   "execution_count": 170,
   "metadata": {},
   "outputs": [
    {
     "name": "stdout",
     "output_type": "stream",
     "text": [
      "{'1': ['2', '3'], '2': ['4'], '3': ['1'], '4': ['3']}\n"
     ]
    },
    {
     "data": {
      "image/png": "[encoded data removed]",
      "text/plain": [
       "<Figure size 432x288 with 1 Axes>"
      ]
     },
     "metadata": {},
     "output_type": "display_data"
    }
   ],
   "source": [
    "graph1 = Graph(\"1 2 2 4 1 3 3 1 4 3 0 0\")"
   ]
  },
  {
   "cell_type": "code",
   "execution_count": 171,
   "metadata": {},
   "outputs": [
    {
     "name": "stdout",
     "output_type": "stream",
     "text": [
      "1-->2:All paths are: [['1', '2']] =>min path is: ['1', '2']\n",
      "So path length: 1\n",
      "1-->3:All paths are: [['1', '2', '4', '3'], ['1', '3']] =>min path is: ['1', '3']\n",
      "So path length: 1\n",
      "1-->4:All paths are: [['1', '2', '4']] =>min path is: ['1', '2', '4']\n",
      "So path length: 2\n",
      "2-->1:All paths are: [['2', '4', '3', '1']] =>min path is: ['2', '4', '3', '1']\n",
      "So path length: 3\n",
      "2-->3:All paths are: [['2', '4', '3']] =>min path is: ['2', '4', '3']\n",
      "So path length: 2\n",
      "2-->4:All paths are: [['2', '4']] =>min path is: ['2', '4']\n",
      "So path length: 1\n",
      "3-->1:All paths are: [['3', '1']] =>min path is: ['3', '1']\n",
      "So path length: 1\n",
      "3-->2:All paths are: [['3', '1', '2']] =>min path is: ['3', '1', '2']\n",
      "So path length: 2\n",
      "3-->4:All paths are: [['3', '1', '2', '4']] =>min path is: ['3', '1', '2', '4']\n",
      "So path length: 3\n",
      "4-->1:All paths are: [['4', '3', '1']] =>min path is: ['4', '3', '1']\n",
      "So path length: 2\n",
      "4-->2:All paths are: [['4', '3', '1', '2']] =>min path is: ['4', '3', '1', '2']\n",
      "So path length: 3\n",
      "4-->3:All paths are: [['4', '3']] =>min path is: ['4', '3']\n",
      "So path length: 1\n",
      "sum of all path lengths:22\n"
     ]
    },
    {
     "data": {
      "text/plain": [
       "22"
      ]
     },
     "execution_count": 171,
     "metadata": {},
     "output_type": "execute_result"
    }
   ],
   "source": [
    "graph1.sumOfAllPathLengths()"
   ]
  },
  {
   "cell_type": "code",
   "execution_count": 172,
   "metadata": {},
   "outputs": [
    {
     "data": {
      "text/plain": [
       "12"
      ]
     },
     "execution_count": 172,
     "metadata": {},
     "output_type": "execute_result"
    }
   ],
   "source": [
    "graph1.possiblePairesOfPages()"
   ]
  },
  {
   "cell_type": "code",
   "execution_count": 173,
   "metadata": {},
   "outputs": [
    {
     "data": {
      "text/plain": [
       "'1.833'"
      ]
     },
     "execution_count": 173,
     "metadata": {},
     "output_type": "execute_result"
    }
   ],
   "source": [
    "graph1.averagePathLength()"
   ]
  },
  {
   "cell_type": "code",
   "execution_count": 174,
   "metadata": {},
   "outputs": [
    {
     "name": "stdout",
     "output_type": "stream",
     "text": [
      "{'1': ['2', '4'], '4': ['2'], '2': ['7'], '7': ['1']}\n"
     ]
    },
    {
     "data": {
      "image/png": "[encoded data removed]",
      "text/plain": [
       "<Figure size 432x288 with 1 Axes>"
      ]
     },
     "metadata": {},
     "output_type": "display_data"
    }
   ],
   "source": [
    "graph2 = Graph(\"1 2 1 4 4 2 2 7 7 1 0 0\")"
   ]
  },
  {
   "cell_type": "code",
   "execution_count": 175,
   "metadata": {},
   "outputs": [
    {
     "name": "stdout",
     "output_type": "stream",
     "text": [
      "1-->4:All paths are: [['1', '4']] =>min path is: ['1', '4']\n",
      "So path length: 1\n",
      "1-->2:All paths are: [['1', '2'], ['1', '4', '2']] =>min path is: ['1', '2']\n",
      "So path length: 1\n",
      "1-->7:All paths are: [['1', '2', '7'], ['1', '4', '2', '7']] =>min path is: ['1', '2', '7']\n",
      "So path length: 2\n",
      "4-->1:All paths are: [['4', '2', '7', '1']] =>min path is: ['4', '2', '7', '1']\n",
      "So path length: 3\n",
      "4-->2:All paths are: [['4', '2']] =>min path is: ['4', '2']\n",
      "So path length: 1\n",
      "4-->7:All paths are: [['4', '2', '7']] =>min path is: ['4', '2', '7']\n",
      "So path length: 2\n",
      "2-->1:All paths are: [['2', '7', '1']] =>min path is: ['2', '7', '1']\n",
      "So path length: 2\n",
      "2-->4:All paths are: [['2', '7', '1', '4']] =>min path is: ['2', '7', '1', '4']\n",
      "So path length: 3\n",
      "2-->7:All paths are: [['2', '7']] =>min path is: ['2', '7']\n",
      "So path length: 1\n",
      "7-->1:All paths are: [['7', '1']] =>min path is: ['7', '1']\n",
      "So path length: 1\n",
      "7-->4:All paths are: [['7', '1', '4']] =>min path is: ['7', '1', '4']\n",
      "So path length: 2\n",
      "7-->2:All paths are: [['7', '1', '2'], ['7', '1', '4', '2']] =>min path is: ['7', '1', '2']\n",
      "So path length: 2\n",
      "sum of all path lengths:21\n"
     ]
    },
    {
     "data": {
      "text/plain": [
       "21"
      ]
     },
     "execution_count": 175,
     "metadata": {},
     "output_type": "execute_result"
    }
   ],
   "source": [
    "graph2.sumOfAllPathLengths()"
   ]
  },
  {
   "cell_type": "code",
   "execution_count": 176,
   "metadata": {},
   "outputs": [
    {
     "data": {
      "text/plain": [
       "12"
      ]
     },
     "execution_count": 176,
     "metadata": {},
     "output_type": "execute_result"
    }
   ],
   "source": [
    "graph2.possiblePairesOfPages()"
   ]
  },
  {
   "cell_type": "code",
   "execution_count": 177,
   "metadata": {},
   "outputs": [
    {
     "data": {
      "text/plain": [
       "'1.750'"
      ]
     },
     "execution_count": 177,
     "metadata": {},
     "output_type": "execute_result"
    }
   ],
   "source": [
    "graph2.averagePathLength()"
   ]
  }
 ],
 "metadata": {
  "kernelspec": {
   "display_name": "Python 3",
   "language": "python",
   "name": "python3"
  },
  "language_info": {
   "codemirror_mode": {
    "name": "ipython",
    "version": 3
   },
   "file_extension": ".py",
   "mimetype": "text/x-python",
   "name": "python",
   "nbconvert_exporter": "python",
   "pygments_lexer": "ipython3",
   "version": "3.7.4"
  }
 },
 "nbformat": 4,
 "nbformat_minor": 2
}
